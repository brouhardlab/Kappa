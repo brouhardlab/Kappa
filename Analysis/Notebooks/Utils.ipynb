{
 "cells": [
  {
   "cell_type": "markdown",
   "metadata": {},
   "source": [
    "Scale `.kapp` file."
   ]
  },
  {
   "cell_type": "code",
   "execution_count": 2,
   "metadata": {},
   "outputs": [],
   "source": [
    "from pathlib import Path\n",
    "import sys\n",
    "sys.path.append(str(Path(\"../\")))\n",
    "import pykappa"
   ]
  },
  {
   "cell_type": "code",
   "execution_count": 4,
   "metadata": {},
   "outputs": [],
   "source": [
    "input_path = \"/home/hadim/Drive/Data/Kappa/spiral_curve/Original_Curve_small.kapp\"\n",
    "output_path = \"/home/hadim/Drive/Data/Kappa/spiral_curve/Original_Curve.kapp\"\n",
    "\n",
    "data = pykappa.io.parse_kappa(input_path)\n",
    "scale_factor = 5\n",
    "data = pykappa.io.transform_positions(data, lambda x: x * scale_factor)\n",
    "pykappa.io.write_kappa(data, output_path)"
   ]
  },
  {
   "cell_type": "code",
   "execution_count": null,
   "metadata": {},
   "outputs": [],
   "source": []
  }
 ],
 "metadata": {
  "kernelspec": {
   "display_name": "Python [conda env:ij]",
   "language": "python",
   "name": "conda-env-ij-py"
  },
  "language_info": {
   "codemirror_mode": {
    "name": "ipython",
    "version": 3
   },
   "file_extension": ".py",
   "mimetype": "text/x-python",
   "name": "python",
   "nbconvert_exporter": "python",
   "pygments_lexer": "ipython3",
   "version": "3.6.7"
  }
 },
 "nbformat": 4,
 "nbformat_minor": 2
}
