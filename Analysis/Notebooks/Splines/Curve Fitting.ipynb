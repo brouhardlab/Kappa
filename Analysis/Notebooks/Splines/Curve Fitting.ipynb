{
 "cells": [
  {
   "cell_type": "code",
   "execution_count": 1,
   "metadata": {},
   "outputs": [],
   "source": [
    "from pathlib import Path\n",
    "import pandas as pd\n",
    "import numpy as np\n",
    "import scipy.interpolate as si\n",
    "from scipy import optimize\n",
    "import matplotlib.pyplot as plt\n",
    "\n",
    "import sys; sys.path.append(\"../../\")\n",
    "import pykappa"
   ]
  },
  {
   "cell_type": "markdown",
   "metadata": {},
   "source": [
    "We define our linear model:\n",
    "  \n",
    "$$\n",
    "y = f(x) = p_1 + p_2 * sin(x)\n",
    "$$\n",
    "\n",
    "- Parameters are defined by $\\mathbf{P} = [p_1, p_2, \\dots, p_m]$\n",
    "    - Here $\\mathbf{P} = [p_1, p_2]$\n",
    "- Data consist of $n$ points.\n",
    "    - Here $n = 50$."
   ]
  },
  {
   "cell_type": "code",
   "execution_count": 2,
   "metadata": {},
   "outputs": [
    {
     "name": "stdout",
     "output_type": "stream",
     "text": [
      "[3.04055927 1.8292184 ]\n"
     ]
    },
    {
     "data": {
      "text/plain": [
       "[<matplotlib.lines.Line2D at 0x7f9d7e0b6358>]"
      ]
     },
     "execution_count": 2,
     "metadata": {},
     "output_type": "execute_result"
    },
    {
     "data": {
      "image/png": "[encoded data removed]",
      "text/plain": [
       "<Figure size 432x288 with 1 Axes>"
      ]
     },
     "metadata": {
      "needs_background": "light"
     },
     "output_type": "display_data"
    }
   ],
   "source": [
    "np.random.seed(0)\n",
    "\n",
    "n = 50\n",
    "p1 = 2.9\n",
    "p2 = 1.5\n",
    "x_data = np.linspace(-5, 5, num=n)\n",
    "y_data = p1 + p2 * np.sin(x_data) + np.random.normal(size=n)\n",
    "\n",
    "# Use scipy.optimize.curve_fit\n",
    "def test_func(x, p1, p2):\n",
    "  return p1 + p2 * np.sin(x)\n",
    "\n",
    "init_params = [2, 2]\n",
    "params, _ = optimize.curve_fit(test_func, x_data, y_data, p0=init_params)\n",
    "print(params)\n",
    "\n",
    "plt.scatter(x_data, y_data)\n",
    "plt.plot(x_data, test_func(x_data, params[0], params[1]))"
   ]
  },
  {
   "cell_type": "markdown",
   "metadata": {},
   "source": [
    "Write as a linear system of equations for $n$ points:\n",
    "\n",
    "$$\n",
    "\\left(\\begin{array}{c} y_1 \\\\ y_2 \\\\ \\vdots \\\\ y_i \\\\ \\vdots \\\\ y_n \\end{array} \\right)\n",
    "=\n",
    "\\left(\\begin{matrix} \n",
    "1 & sin(x_1) \\\\\n",
    "1 & sin(x_2) \\\\\n",
    "\\vdots & \\vdots \\\\\n",
    "1 & sin(x_i) \\\\\n",
    "\\vdots & \\vdots \\\\\n",
    "1 & sin(x_n) \\\\\n",
    "\\end{matrix} \\right)\n",
    "\\left(\\begin{array}{c} p_1 \\\\ p_2 \\end{array} \\right)\n",
    "$$\n",
    "\n",
    "Linear system of equations is:\n",
    "\n",
    "$$\n",
    "\\mathbf{M} \\mathbf{P} = \\mathbf{Y}\n",
    "$$\n",
    "\n",
    "where $\\mathbf{M}$ is the model, $\\mathbf{P}$ the parameters and $\\mathbf{Y}$ the data.\n",
    "\n",
    "The least square solution is:\n",
    "\n",
    "$$\n",
    "\\mathbf{M^T} \\mathbf{M} \\mathbf{P} = \\mathbf{M^T} \\mathbf{Y}\n",
    "\\\\\n",
    "\\mathbf{P} = (\\mathbf{M^T} \\mathbf{M})^{-1} \\mathbf{M^T} \\mathbf{Y}\n",
    "$$"
   ]
  },
  {
   "cell_type": "code",
   "execution_count": 14,
   "metadata": {},
   "outputs": [
    {
     "name": "stdout",
     "output_type": "stream",
     "text": [
      "[3.04055927 1.82921841]\n"
     ]
    },
    {
     "data": {
      "text/plain": [
       "[<matplotlib.lines.Line2D at 0x7f9d7ce654e0>]"
      ]
     },
     "execution_count": 14,
     "metadata": {},
     "output_type": "execute_result"
    },
    {
     "data": {
      "image/png": "[encoded data removed]",
      "text/plain": [
       "<Figure size 432x288 with 1 Axes>"
      ]
     },
     "metadata": {
      "needs_background": "light"
     },
     "output_type": "display_data"
    }
   ],
   "source": [
    "# Solve using manual least square\n",
    "M = np.stack([np.ones(n), np.sin(x_data)]).T\n",
    "Y = y_data\n",
    "\n",
    "MTM = M.T @ M\n",
    "MTM_INV = np.linalg.inv(MTM)\n",
    "P = MTM_INV @ M.T @ Y\n",
    "print(P)\n",
    "\n",
    "plt.scatter(x_data, y_data)\n",
    "plt.plot(x_data, test_func(x_data, P[0], P[1]))"
   ]
  },
  {
   "cell_type": "code",
   "execution_count": 18,
   "metadata": {},
   "outputs": [
    {
     "data": {
      "text/plain": [
       "array([3.04055927, 1.82921841])"
      ]
     },
     "execution_count": 18,
     "metadata": {},
     "output_type": "execute_result"
    }
   ],
   "source": [
    "# Solve using numpy.linalg.lstsq\n",
    "np.linalg.lstsq(M, Y, rcond=None)[0]"
   ]
  }
 ],
 "metadata": {
  "kernelspec": {
   "display_name": "Python [conda env:ws]",
   "language": "python",
   "name": "conda-env-ws-py"
  },
  "language_info": {
   "codemirror_mode": {
    "name": "ipython",
    "version": 3
   },
   "file_extension": ".py",
   "mimetype": "text/x-python",
   "name": "python",
   "nbconvert_exporter": "python",
   "pygments_lexer": "ipython3",
   "version": "3.6.7"
  }
 },
 "nbformat": 4,
 "nbformat_minor": 4
}
