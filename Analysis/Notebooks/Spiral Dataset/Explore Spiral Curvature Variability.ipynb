{
 "cells": [
  {
   "cell_type": "code",
   "execution_count": 23,
   "metadata": {},
   "outputs": [],
   "source": [
    "from pathlib import Path\n",
    "import matplotlib.pyplot as plt\n",
    "import pandas as pd\n",
    "import numpy as np\n",
    "from tqdm.auto import tqdm\n",
    "import tifffile\n",
    "from scipy import signal\n",
    "from scipy import ndimage\n",
    "\n",
    "import sys; sys.path.append(str(Path(\"../../\")))\n",
    "import pykappa\n",
    "\n",
    "data_dir = Path(\"/home/hadim/.data/Postdoc/Kappa/spiral_curve_v2\")\n",
    "data_dir.mkdir(exist_ok=True)\n",
    "\n",
    "# We use a small pixel size for the \n",
    "# original image that will be used \n",
    "# to build all the different dataset.\n",
    "original_pixel_size = 0.01  # um\n",
    "\n",
    "offset = 80  # pixel\n",
    "\n",
    "signal_value = 100\n",
    "\n",
    "initial_radius = 5  # um\n",
    "spiral_length = 9  # um\n",
    "spiral_step_size = 0.001  # um\n",
    "\n",
    "fixed_snr = 20  # dB\n",
    "fixed_pixel_size = 0.16  # um/pixel"
   ]
  },
  {
   "cell_type": "code",
   "execution_count": 36,
   "metadata": {},
   "outputs": [
    {
     "name": "stderr",
     "output_type": "stream",
     "text": [
      "/home/hadim/local/conda/envs/ws/lib/python3.6/site-packages/ipykernel_launcher.py:14: RuntimeWarning: divide by zero encountered in log\n",
      "  \n"
     ]
    }
   ],
   "source": [
    "# Golden ratio\n",
    "phi = (1 + np.sqrt(5)) / 2\n",
    "\n",
    "# Initial radius\n",
    "a = initial_radius\n",
    "\n",
    "# Growth factor\n",
    "b = np.log(phi) / np.deg2rad(90)\n",
    "\n",
    "# Define spiral length\n",
    "t = np.arange(0, spiral_length, spiral_step_size)\n",
    "\n",
    "# `t` is scaled to get even spacing between computed points.\n",
    "t = np.log(b * t) / b\n",
    "\n",
    "# We remove the first data points that are too curved.\n",
    "# See https://computergraphics.stackexchange.com/questions/5735/logarithmic-spiral-with-equal-vertex-spacing-what-equations\n",
    "t = t[400:]\n",
    "\n",
    "# Compute curvatures\n",
    "kappa = (np.exp(-1 * b * t)) / (a * np.sqrt(1 + b**2))\n",
    "\n",
    "# Compute arc length\n",
    "t0 = 0\n",
    "l = (np.sqrt(a**2 * (b**2 + 1)) * (np.sqrt(np.exp(2*b*t)) - (np.sqrt(np.exp(2*b*t0))))) / b\n",
    "\n",
    "# Compute positions\n",
    "xx = a * np.exp(b * t) * np.cos(t)\n",
    "yy = a * np.exp(b * t) * np.sin(t)\n",
    "\n",
    "origin = np.array([xx.min(), yy.min()])\n",
    "xx -= xx.min()\n",
    "yy -= yy.min()\n",
    "\n",
    "pixel_size = 0.16\n",
    "step = 100\n",
    "\n",
    "xx /= pixel_size\n",
    "yy /= pixel_size\n",
    "\n",
    "xx += offset * pixel_size\n",
    "yy += offset * pixel_size\n",
    "\n",
    "xx = xx[::step]\n",
    "yy = yy[::step]"
   ]
  },
  {
   "cell_type": "code",
   "execution_count": 37,
   "metadata": {},
   "outputs": [
    {
     "data": {
      "image/png": "[encoded data removed]",
      "text/plain": [
       "<Figure size 432x288 with 1 Axes>"
      ]
     },
     "metadata": {
      "needs_background": "light"
     },
     "output_type": "display_data"
    }
   ],
   "source": [
    "fig, ax = plt.subplots()\n",
    "ax.scatter(yy, xx)\n",
    "ax.set_aspect('equal')"
   ]
  },
  {
   "cell_type": "code",
   "execution_count": 38,
   "metadata": {},
   "outputs": [],
   "source": [
    "pixel_size = 0.16\n",
    "\n",
    "curve_data = {}\n",
    "curve_data['curveType'] = 1\n",
    "curve_data['noKeyframes'] = 1\n",
    "curve_data['noCtrlPts'] = len(xx)\n",
    "curve_data['bsplineType'] = 0\n",
    "curve_data['curve_pos'] = np.array([yy, xx]).T\n",
    "pykappa.io.write_kappa([curve_data], '/home/hadim/snr_20_dB_TEST.kapp')"
   ]
  },
  {
   "cell_type": "code",
   "execution_count": null,
   "metadata": {},
   "outputs": [],
   "source": []
  }
 ],
 "metadata": {
  "kernelspec": {
   "display_name": "Python [conda env:ws]",
   "language": "python",
   "name": "conda-env-ws-py"
  },
  "language_info": {
   "codemirror_mode": {
    "name": "ipython",
    "version": 3
   },
   "file_extension": ".py",
   "mimetype": "text/x-python",
   "name": "python",
   "nbconvert_exporter": "python",
   "pygments_lexer": "ipython3",
   "version": "3.6.7"
  }
 },
 "nbformat": 4,
 "nbformat_minor": 4
}
