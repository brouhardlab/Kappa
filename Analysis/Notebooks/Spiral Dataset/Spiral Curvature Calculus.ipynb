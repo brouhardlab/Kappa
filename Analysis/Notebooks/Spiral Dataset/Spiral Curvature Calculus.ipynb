{
 "cells": [
  {
   "cell_type": "markdown",
   "metadata": {},
   "source": [
    "## Definition\n",
    "\n",
    "Given the parametric equation of a logarithmic spiral:\n",
    "\n",
    "$$\n",
    "x(t) = ae^{bt} \\cos(t)\n",
    "\\\\\n",
    "y(t) = ae^{bt} \\sin(t)\n",
    "$$\n",
    "\n",
    "Then the curvature $\\kappa$ of the spiral is given by:\n",
    "\n",
    "$$\n",
    "\\kappa (t) = \\frac{ e^{-bt} } {a\\sqrt{1 + b^2}}\n",
    "$$\n",
    "\n",
    "where $t$ is the tangential angle.\n",
    "\n",
    "## Objective\n",
    "\n",
    "Given the general definition of the curvature of a parametric curve in the xy plane:\n",
    "\n",
    "$$\n",
    "\\kappa = \\left \\| \\frac{d\\mathbf{T}}{dt} \\right \\| = \\frac{| \\dot{x}\\ddot{y} - \\dot{y}\\ddot{x} |}{{(\\dot{x}^2 + \\dot{y}^2)} ^ { \\frac{3}{2} }}\n",
    "$$\n",
    "\n",
    "Recover the above curvature equation of a logarithmic spiral using sympy."
   ]
  },
  {
   "cell_type": "code",
   "execution_count": 2,
   "metadata": {},
   "outputs": [
    {
     "data": {
      "image/png": "[encoded data removed]",
      "text/latex": [
       "$$\\left ( a e^{b t} \\cos{\\left (t \\right )}, \\quad a e^{b t} \\sin{\\left (t \\right )}\\right )$$"
      ],
      "text/plain": [
       "⎛   b⋅t            b⋅t       ⎞\n",
       "⎝a⋅ℯ   ⋅cos(t), a⋅ℯ   ⋅sin(t)⎠"
      ]
     },
     "execution_count": 2,
     "metadata": {},
     "output_type": "execute_result"
    }
   ],
   "source": [
    "from sympy import *\n",
    "init_printing()\n",
    "\n",
    "# Define variables\n",
    "x, y, t = symbols('x y t')\n",
    "a, b = symbols('a b')\n",
    "\n",
    "# Spiral equation\n",
    "x = a * exp(b*t) * cos(t)\n",
    "y = a * exp(b*t) * sin(t)\n",
    "\n",
    "x, y"
   ]
  },
  {
   "cell_type": "code",
   "execution_count": 8,
   "metadata": {},
   "outputs": [
    {
     "data": {
      "image/png": "[encoded data removed]",
      "text/latex": [
       "$$\\frac{e^{- b t}}{a \\sqrt{b^{2} + 1}}$$"
      ],
      "text/plain": [
       "     -b⋅t    \n",
       "    ℯ        \n",
       "─────────────\n",
       "     ________\n",
       "    ╱  2     \n",
       "a⋅╲╱  b  + 1 "
      ]
     },
     "execution_count": 8,
     "metadata": {},
     "output_type": "execute_result"
    }
   ],
   "source": [
    "# Get derivatives\n",
    "xd = diff(x, t)\n",
    "yd = diff(y, t)\n",
    "xdd = diff(xd, t)\n",
    "ydd = diff(yd, t)\n",
    "\n",
    "# Define the true curvature equation\n",
    "true_curvature = exp(- b * t) / (a * sqrt(1 + b**2))\n",
    "true_curvature"
   ]
  },
  {
   "cell_type": "code",
   "execution_count": 9,
   "metadata": {},
   "outputs": [
    {
     "data": {
      "image/png": "[encoded data removed]",
      "text/latex": [
       "$$\\frac{\\left|{- \\left(a b e^{b t} \\sin{\\left (t \\right )} + a e^{b t} \\cos{\\left (t \\right )}\\right) \\left(a b^{2} e^{b t} \\cos{\\left (t \\right )} - 2 a b e^{b t} \\sin{\\left (t \\right )} - a e^{b t} \\cos{\\left (t \\right )}\\right) + \\left(a b e^{b t} \\cos{\\left (t \\right )} - a e^{b t} \\sin{\\left (t \\right )}\\right) \\left(a b^{2} e^{b t} \\sin{\\left (t \\right )} + 2 a b e^{b t} \\cos{\\left (t \\right )} - a e^{b t} \\sin{\\left (t \\right )}\\right)}\\right|}{\\left(\\left(a b e^{b t} \\sin{\\left (t \\right )} + a e^{b t} \\cos{\\left (t \\right )}\\right)^{2} + \\left(a b e^{b t} \\cos{\\left (t \\right )} - a e^{b t} \\sin{\\left (t \\right )}\\right)^{2}\\right)^{1.5}}$$"
      ],
      "text/plain": [
       "                                                                         -1.5 \n",
       "⎛                                 2                                    2⎞     \n",
       "⎜⎛     b⋅t             b⋅t       ⎞    ⎛     b⋅t             b⋅t       ⎞ ⎟     \n",
       "⎝⎝a⋅b⋅ℯ   ⋅sin(t) + a⋅ℯ   ⋅cos(t)⎠  + ⎝a⋅b⋅ℯ   ⋅cos(t) - a⋅ℯ   ⋅sin(t)⎠ ⎠    ⋅\n",
       "\n",
       "                                                                              \n",
       "                                                                              \n",
       "│  ⎛     b⋅t             b⋅t       ⎞ ⎛   2  b⋅t                 b⋅t           \n",
       "│- ⎝a⋅b⋅ℯ   ⋅sin(t) + a⋅ℯ   ⋅cos(t)⎠⋅⎝a⋅b ⋅ℯ   ⋅cos(t) - 2⋅a⋅b⋅ℯ   ⋅sin(t) - a\n",
       "\n",
       "                                                                              \n",
       "                                                                              \n",
       "  b⋅t       ⎞   ⎛     b⋅t             b⋅t       ⎞ ⎛   2  b⋅t                 b\n",
       "⋅ℯ   ⋅cos(t)⎠ + ⎝a⋅b⋅ℯ   ⋅cos(t) - a⋅ℯ   ⋅sin(t)⎠⋅⎝a⋅b ⋅ℯ   ⋅sin(t) + 2⋅a⋅b⋅ℯ \n",
       "\n",
       "                           \n",
       "                           \n",
       "⋅t             b⋅t       ⎞│\n",
       "  ⋅cos(t) - a⋅ℯ   ⋅sin(t)⎠│"
      ]
     },
     "execution_count": 9,
     "metadata": {},
     "output_type": "execute_result"
    }
   ],
   "source": [
    "# Compute curvature\n",
    "curvature = Abs(xd * ydd - yd * xdd) / (xd**2 + yd**2)**(3/2)\n",
    "curvature"
   ]
  },
  {
   "cell_type": "code",
   "execution_count": 10,
   "metadata": {},
   "outputs": [
    {
     "data": {
      "image/png": "[encoded data removed]",
      "text/latex": [
       "$$\\frac{e^{2 \\Re{\\left(b t\\right)}} \\left|{a^{2} \\left(b^{2} + 1\\right)}\\right|}{\\left(a^{2} \\left(b^{2} + 1\\right) e^{2 b t}\\right)^{1.5}}$$"
      ],
      "text/plain": [
       "                    -1.5                         \n",
       "⎛ 2 ⎛ 2    ⎞  2⋅b⋅t⎞      2⋅re(b⋅t) │ 2 ⎛ 2    ⎞│\n",
       "⎝a ⋅⎝b  + 1⎠⋅ℯ     ⎠    ⋅ℯ         ⋅│a ⋅⎝b  + 1⎠│"
      ]
     },
     "execution_count": 10,
     "metadata": {},
     "output_type": "execute_result"
    }
   ],
   "source": [
    "curvature = curvature.simplify()\n",
    "curvature"
   ]
  },
  {
   "cell_type": "code",
   "execution_count": 92,
   "metadata": {},
   "outputs": [
    {
     "data": {
      "image/png": "[encoded data removed]",
      "text/latex": [
       "$$0.0051533638713813$$"
      ],
      "text/plain": [
       "0.00515336387138130"
      ]
     },
     "execution_count": 92,
     "metadata": {},
     "output_type": "execute_result"
    }
   ],
   "source": [
    "args = {'a': 14, 'b': 5, 't': 0.2}\n",
    "true_curvature.subs(args).evalf()"
   ]
  },
  {
   "cell_type": "code",
   "execution_count": 93,
   "metadata": {},
   "outputs": [
    {
     "data": {
      "image/png": "[encoded data removed]",
      "text/latex": [
       "$$0.0051533638713813$$"
      ],
      "text/plain": [
       "0.00515336387138130"
      ]
     },
     "execution_count": 93,
     "metadata": {},
     "output_type": "execute_result"
    }
   ],
   "source": [
    "curvature.subs(args).evalf()"
   ]
  },
  {
   "cell_type": "code",
   "execution_count": 96,
   "metadata": {},
   "outputs": [
    {
     "data": {
      "image/png": "[encoded data removed]",
      "text/latex": [
       "$$- \\frac{e^{2 \\Re{\\left(b t\\right)}} \\left|{a^{2} b^{2} + a^{2}}\\right|}{\\left(a^{2} b^{2} e^{2 b t} + a^{2} e^{2 b t}\\right)^{1.5}} + \\frac{e^{- b t}}{a \\sqrt{b^{2} + 1}}$$"
      ],
      "text/plain": [
       "                            -1.5                                -b⋅t    \n",
       "  ⎛ 2  2  2⋅b⋅t    2  2⋅b⋅t⎞      2⋅re(b⋅t) │ 2  2    2│       ℯ        \n",
       "- ⎝a ⋅b ⋅ℯ      + a ⋅ℯ     ⎠    ⋅ℯ         ⋅│a ⋅b  + a │ + ─────────────\n",
       "                                                                ________\n",
       "                                                               ╱  2     \n",
       "                                                           a⋅╲╱  b  + 1 "
      ]
     },
     "execution_count": 96,
     "metadata": {},
     "output_type": "execute_result"
    }
   ],
   "source": [
    "expand(true_curvature - curvature)"
   ]
  },
  {
   "cell_type": "markdown",
   "metadata": {},
   "source": [
    "The newly computed `curvature` expression give the same result as the `true_curvature` expression given in the textbooks."
   ]
  }
 ],
 "metadata": {
  "kernelspec": {
   "display_name": "Python [conda env:ws]",
   "language": "python",
   "name": "conda-env-ws-py"
  },
  "language_info": {
   "codemirror_mode": {
    "name": "ipython",
    "version": 3
   },
   "file_extension": ".py",
   "mimetype": "text/x-python",
   "name": "python",
   "nbconvert_exporter": "python",
   "pygments_lexer": "ipython3",
   "version": "3.6.7"
  }
 },
 "nbformat": 4,
 "nbformat_minor": 2
}
