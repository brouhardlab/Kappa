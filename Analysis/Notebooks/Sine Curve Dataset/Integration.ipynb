{
 "cells": [
  {
   "cell_type": "code",
   "execution_count": 17,
   "metadata": {},
   "outputs": [
    {
     "data": {
      "text/latex": [
       "$\\displaystyle 4 \\pi^{2} \\left|{\\frac{A \\sin{\\left(\\frac{2 \\pi x}{T} \\right)}}{T^{2} \\left(\\frac{4 \\pi^{2} A^{2} \\cos^{2}{\\left(\\frac{2 \\pi x}{T} \\right)}}{T^{2}} + 1\\right)^{1.5}}}\\right|$"
      ],
      "text/plain": [
       "4*pi**2*Abs(A*(4*pi**2*A**2*cos(2*pi*x/T)**2/T**2 + 1)**(-1.5)*sin(2*pi*x/T)/T**2)"
      ]
     },
     "execution_count": 17,
     "metadata": {},
     "output_type": "execute_result"
    }
   ],
   "source": [
    "from sympy import *\n",
    "from sympy.plotting import plot\n",
    "\n",
    "x, A, B, T = symbols('x, A, B, T')\n",
    "B = 2 * pi * (1/T)\n",
    "kappa = (A*B**2*sin(B*x)) / ((1 + A**2 * B**2 * cos(B*x)**2)**(3/2))\n",
    "kappa = abs(kappa)\n",
    "kappa"
   ]
  },
  {
   "cell_type": "code",
   "execution_count": 18,
   "metadata": {},
   "outputs": [
    {
     "data": {
      "text/latex": [
       "$\\displaystyle 1.05275780278287$"
      ],
      "text/plain": [
       "1.05275780278287"
      ]
     },
     "execution_count": 18,
     "metadata": {},
     "output_type": "execute_result"
    }
   ],
   "source": [
    "subs = {}\n",
    "subs['T'] = 15\n",
    "subs['A'] = 6\n",
    "subs['x'] = 15/4\n",
    "kappa.evalf(subs=subs)"
   ]
  },
  {
   "cell_type": "code",
   "execution_count": 22,
   "metadata": {},
   "outputs": [
    {
     "data": {
      "text/latex": [
       "$\\displaystyle \\int\\limits_{0}^{15} 4 \\pi^{2} \\left|{\\frac{A \\sin{\\left(\\frac{2 \\pi x}{T} \\right)}}{T^{2} \\left(\\frac{4 \\pi^{2} A^{2} \\cos^{2}{\\left(\\frac{2 \\pi x}{T} \\right)}}{T^{2}} + 1\\right)^{1.5}}}\\right|\\, dx$"
      ],
      "text/plain": [
       "Integral(4*pi**2*Abs(A*(4*pi**2*A**2*cos(2*pi*x/T)**2/T**2 + 1)**(-1.5)*sin(2*pi*x/T)/T**2), (x, 0, 15))"
      ]
     },
     "execution_count": 22,
     "metadata": {},
     "output_type": "execute_result"
    }
   ],
   "source": [
    "integral = Integral(kappa, (x, 0, 15))\n",
    "integral"
   ]
  },
  {
   "cell_type": "code",
   "execution_count": 20,
   "metadata": {},
   "outputs": [
    {
     "data": {
      "text/latex": [
       "$\\displaystyle 3.7166$"
      ],
      "text/plain": [
       "3.7166"
      ]
     },
     "execution_count": 20,
     "metadata": {},
     "output_type": "execute_result"
    }
   ],
   "source": [
    "subs = {}\n",
    "subs['T'] = 15\n",
    "subs['A'] = 6\n",
    "integral.subs(subs).evalf()"
   ]
  },
  {
   "cell_type": "code",
   "execution_count": 21,
   "metadata": {},
   "outputs": [
    {
     "data": {
      "text/plain": [
       "0.24777333333333335"
      ]
     },
     "execution_count": 21,
     "metadata": {},
     "output_type": "execute_result"
    }
   ],
   "source": [
    "3.7166 / 15"
   ]
  },
  {
   "cell_type": "code",
   "execution_count": 16,
   "metadata": {},
   "outputs": [
    {
     "data": {
      "image/png": "[encoded data removed]",
      "text/plain": [
       "<Figure size 432x288 with 1 Axes>"
      ]
     },
     "metadata": {
      "needs_background": "light"
     },
     "output_type": "display_data"
    }
   ],
   "source": [
    "_ = plot(kappa.subs(subs), (x, 0, 15))"
   ]
  },
  {
   "cell_type": "code",
   "execution_count": null,
   "metadata": {},
   "outputs": [],
   "source": []
  }
 ],
 "metadata": {
  "kernelspec": {
   "display_name": "Python [conda env:kappa]",
   "language": "python",
   "name": "conda-env-kappa-py"
  },
  "language_info": {
   "codemirror_mode": {
    "name": "ipython",
    "version": 3
   },
   "file_extension": ".py",
   "mimetype": "text/x-python",
   "name": "python",
   "nbconvert_exporter": "python",
   "pygments_lexer": "ipython3",
   "version": "3.6.7"
  }
 },
 "nbformat": 4,
 "nbformat_minor": 4
}
