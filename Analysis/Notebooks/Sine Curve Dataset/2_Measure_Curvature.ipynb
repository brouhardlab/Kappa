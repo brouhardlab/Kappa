{
 "cells": [
  {
   "cell_type": "markdown",
   "metadata": {},
   "source": [
    "**Important**: This notebook is different from the other as it directly calls **ImageJ Kappa plugin** using the [`scyjava` ImageJ brige](https://github.com/scijava/scyjava).\n",
    "\n",
    "Since Kappa uses ImageJ1 features, you might not be able to run this notebook on an headless machine (need to be tested)."
   ]
  },
  {
   "cell_type": "code",
   "execution_count": 1,
   "metadata": {},
   "outputs": [
    {
     "data": {
      "text/plain": [
       "'Squared Distance Minimization'"
      ]
     },
     "execution_count": 1,
     "metadata": {},
     "output_type": "execute_result"
    }
   ],
   "source": [
    "from pathlib import Path\n",
    "import pandas as pd\n",
    "import numpy as np\n",
    "from tqdm.auto import tqdm\n",
    "\n",
    "# Init ImageJ with Fiji plugins\n",
    "# It can take a while if Java artifacts are not yet cached.\n",
    "import imagej\n",
    "java_deps = []\n",
    "java_deps.append('org.scijava:Kappa:1.7.1')\n",
    "ij = imagej.init(\"+\".join(java_deps), headless=False)\n",
    "\n",
    "import jnius\n",
    "\n",
    "# Load Java classes\n",
    "KappaFrame = jnius.autoclass('sc.fiji.kappa.gui.KappaFrame')\n",
    "CurvesExporter = jnius.autoclass('sc.fiji.kappa.gui.CurvesExporter')\n",
    "\n",
    "# Load ImageJ services\n",
    "dsio = ij.context.getService(jnius.autoclass('io.scif.services.DatasetIOService'))\n",
    "dsio = jnius.cast('io.scif.services.DatasetIOService', dsio)\n",
    "\n",
    "# Set data path\n",
    "data_dir = Path(\"/home/hadim/.data/Postdoc/Kappa/sine_curve_SDM\")\n",
    "\n",
    "# Pixel size used when fixed\n",
    "fixed_pixel_size = 0.16\n",
    "\n",
    "# Used to select pixels around the initialization curves\n",
    "base_radius_um = 1.6\n",
    "\n",
    "enable_control_points_adjustment = True\n",
    "\n",
    "# \"Point Distance Minimization\" or \"Squared Distance Minimization\"\n",
    "if '_SDM' in data_dir.name:\n",
    "  fitting_algorithm = \"Squared Distance Minimization\"\n",
    "else:\n",
    "  fitting_algorithm = \"Point Distance Minimization\"\n",
    "fitting_algorithm"
   ]
  },
  {
   "cell_type": "code",
   "execution_count": 2,
   "metadata": {},
   "outputs": [
    {
     "data": {
      "application/vnd.jupyter.widget-view+json": {
       "model_id": "f31b9b13fbe24adbaec9783d2f2e5a18",
       "version_major": 2,
       "version_minor": 0
      },
      "text/plain": [
       "HBox(children=(IntProgress(value=0, max=1), HTML(value='')))"
      ]
     },
     "metadata": {},
     "output_type": "display_data"
    },
    {
     "data": {
      "application/vnd.jupyter.widget-view+json": {
       "model_id": "71e1214f3f6f4b74810ed07e9c3c8d78",
       "version_major": 2,
       "version_minor": 0
      },
      "text/plain": [
       "HBox(children=(IntProgress(value=0, max=7), HTML(value='')))"
      ]
     },
     "metadata": {},
     "output_type": "display_data"
    },
    {
     "name": "stdout",
     "output_type": "stream",
     "text": [
      "\n",
      "\n"
     ]
    }
   ],
   "source": [
    "experiment_names = ['variable_snr', 'variable_pixel_size', 'variable_initial_position', 'variable_psf_size']\n",
    "experiment_names = ['variable_psf_size']\n",
    "\n",
    "for experiment_name in tqdm(experiment_names, total=len(experiment_names)):\n",
    "    \n",
    "    experiment_path = data_dir / experiment_name\n",
    "\n",
    "    fnames = list(experiment_path.glob(\"*.tif\"))\n",
    "    n = len(fnames)\n",
    "\n",
    "    for fname in tqdm(fnames, total=n):\n",
    "        kappa_path = fname.with_suffix(\".kapp\")\n",
    "        assert kappa_path.exists(), f'{kappa_path} does not exist.'\n",
    "\n",
    "        curvatures_path = fname.with_suffix(\".csv\")\n",
    "        \n",
    "        if not curvatures_path.is_file():\n",
    "\n",
    "          frame = KappaFrame(ij.context)\n",
    "          frame.getKappaMenubar().openImageFile(str(fname))\n",
    "          frame.resetCurves()\n",
    "          frame.getKappaMenubar().loadCurveFile(str(kappa_path))\n",
    "          frame.getCurves().setAllSelected()\n",
    "\n",
    "          # Compute threshold according to the image\n",
    "          dataset = dsio.open(str(fname))\n",
    "          mean = ij.op().stats().mean(dataset).getRealDouble() \n",
    "          std = ij.op().stats().stdDev(dataset).getRealDouble()\n",
    "          threshold = int(mean + std * 2)\n",
    "\n",
    "          # Used fixed pixel size or the one in the filename\n",
    "          if fname.stem.startswith('pixel_size'):\n",
    "              pixel_size = float(fname.stem.split(\"_\")[-2])\n",
    "          elif experiment_name == 'variable_psf_size':\n",
    "              pixel_size = 0.01\n",
    "          else:\n",
    "              pixel_size = fixed_pixel_size\n",
    "\n",
    "          base_radius = int(np.round(base_radius_um / pixel_size))\n",
    "\n",
    "          # Set curve fitting parameters\n",
    "          frame.setEnableCtrlPtAdjustment(enable_control_points_adjustment)\n",
    "          frame.setFittingAlgorithm(fitting_algorithm)\n",
    "          frame.getInfoPanel().thresholdRadiusSpinner.setValue(ij.py.to_java(base_radius))\n",
    "          frame.getInfoPanel().thresholdSlider.setValue(threshold)\n",
    "          frame.getInfoPanel().updateConversionField(str(pixel_size))\n",
    "\n",
    "          # Fit the curves\n",
    "          frame.fitCurves()\n",
    "\n",
    "          # Save fitted curves\n",
    "          frame.getKappaMenubar().saveCurveFile(str(fname.with_suffix(\".FITTED.kapp\")))\n",
    "\n",
    "          # Export results\n",
    "          exporter = CurvesExporter(frame)\n",
    "          exporter.exportToFile(str(curvatures_path), False)\n",
    "\n",
    "          # Remove duplicate rows during CSV export.\n",
    "          # See https://github.com/brouhardlab/Kappa/issues/12\n",
    "          df = pd.read_csv(curvatures_path)\n",
    "          df = df.drop_duplicates()\n",
    "          df.to_csv(curvatures_path)"
   ]
  },
  {
   "cell_type": "code",
   "execution_count": 3,
   "metadata": {},
   "outputs": [
    {
     "data": {
      "text/plain": [
       "10"
      ]
     },
     "execution_count": 3,
     "metadata": {},
     "output_type": "execute_result"
    }
   ],
   "source": [
    "5+5"
   ]
  }
 ],
 "metadata": {
  "kernelspec": {
   "display_name": "Python [conda env:kappa]",
   "language": "python",
   "name": "conda-env-kappa-py"
  },
  "language_info": {
   "codemirror_mode": {
    "name": "ipython",
    "version": 3
   },
   "file_extension": ".py",
   "mimetype": "text/x-python",
   "name": "python",
   "nbconvert_exporter": "python",
   "pygments_lexer": "ipython3",
   "version": "3.6.7"
  }
 },
 "nbformat": 4,
 "nbformat_minor": 4
}
